{
 "cells": [
  {
   "cell_type": "markdown",
   "id": "fd001740",
   "metadata": {},
   "source": [
    "# Risk neutral vs real world probability\n",
    "\n",
    "Real world and risk neutral probabilities are two keys concepts for understanding the pricing of financial derivatives.\n",
    "The real world probability refers to how things are actual unfold in the real world, while the risk neutral probability is a mathematical construct used in pricing derivatives.\n",
    "The risk neutral probability is used in the context of the risk neutral measure, which is a probability measure that assumes that all investors are indifferent to risk. This means that they do not require a risk premium for holding risky assets, and they expect to earn the risk-free rate of return on all investments, instead of real expected returns.\n",
    "\n",
    "The risk neutral measure is used in the pricing of derivatives because it simplifies the pricing process by allowing us to use the risk-free rate as the discount rate for future cash flows. This is particularly useful in the context of options pricing, where we can use the risk neutral measure to calculate the expected value of the option's payoff at expiration, and then discount that value back to present value using the risk-free rate.\n",
    "\n",
    "Let's take a look at the following example to understand the difference between real world and risk neutral probabilities.\n",
    "Consider a stock price driven by the following stochastic process :\n",
    "$$\n",
    "dS_t = \\mu S_t dt + \\sigma S_t dW_t\n",
    "$$\n",
    "where $S_t$ is the stock price at time $t$, $\\mu$ is the drift term, $\\sigma$ is the volatility, and $dW_t$ is a standard Brownian motion.\n",
    "The drift term $\\mu$ represents the expected return of the stock, while the volatility $\\sigma$ represents the uncertainty or risk associated with the stock price. \n",
    "In this case, the real world probability measure is the one that reflects the actual expected return of the stock, which is given by the drift term $\\mu$, that also includes the risk premium, i.e. $\\mu = r + \\text{risk premium}$, where $r$ is the risk-free rate.\n",
    "\n",
    "The risk neutral probability measure, on the other hand, is the one that assumes that all investors are indifferent to risk, and therefore they expect to earn the risk-free rate of return on all investments. In this case, the drift term $\\mu$ is replaced by the risk-free rate $r$, and the stochastic process becomes:\n",
    "$$\n",
    "dS_t = r S_t dt + \\sigma S_t dW_t\n",
    "$$\n",
    "This means that the risk neutral probability measure is obtained by adjusting the drift term to reflect the risk-free rate, and it is used to price derivatives by discounting the expected value of the option's payoff at expiration using the risk-free rate.\n",
    "\n",
    "Mathematically, this can be represented using the Girsanov theorem, which states that we can change the probability measure from the real world measure to the risk neutral measure by adjusting the drift term of the stochastic process. This is done by introducing a new process $dW_t^Q$ that is a Brownian motion under the risk neutral measure, and it is related to the original process $dW_t$ by the following equation:\n",
    "$$\n",
    "dW_t^Q = dW_t + \\theta dt\n",
    "$$\n",
    "where $\\theta$ is the market price of risk, which is defined as the excess return per unit of risk, i.e. $\\theta = \\frac{\\mu - r}{\\sigma}$.\n"
   ]
  }
 ],
 "metadata": {
  "language_info": {
   "name": "python"
  }
 },
 "nbformat": 4,
 "nbformat_minor": 5
}
