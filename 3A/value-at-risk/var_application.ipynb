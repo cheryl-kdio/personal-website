{
  "cells": [
    {
      "cell_type": "raw",
      "metadata": {},
      "source": [
        "---\n",
        "title: Application de la VaR\n",
        "sidebar: auto\n",
        "author:\n",
        "  - Cheryl Kouadio\n",
        "draft: true\n",
        "---"
      ],
      "id": "f74d56ed"
    },
    {
      "cell_type": "markdown",
      "metadata": {},
      "source": [
        "# Introduction  \n",
        "\n",
        "Nous allons ici nous intéresser aux applications de la Value at Risk (VaR) en finance. La VaR est une mesure de risque qui permet d'estimer les pertes maximales potentielles d'un portefeuille  d'actifs financiers sur un horizon de temps donné, à un certain niveau de confiance. Elle est largement utilisée par les institutions financières pour évaluer et gérer les risques de marché, de crédit et de liquidité (cf. [Value at-Risk](var.qmd#sec-var-def)).\n",
        "\n",
        "Nous verrons ainsi les applications des VaR analytique, historique et Monte Carlo.\n",
        "\n",
        "# Import des données\n",
        "\n",
        "Nous utilisons les données du CAC 40 du 01/03/1990 au 10/05/2024. Le CAC 40 (Cotation Assistée en Continu) est l'indice boursier le plus important de la Bourse de Paris. Son nom signifie que c'est un indice composé des 40 sociétés françaises les plus significatives et les plus liquides cotées sur Euronext Paris, qui est l'une des principales places boursières en Europe.\n"
      ],
      "id": "3a9393e2"
    },
    {
      "cell_type": "code",
      "metadata": {},
      "source": [
        "# Librairie où importer les données\n",
        "import yfinance as yf\n",
        "_ = yf.Ticker(\"^FCHI\")\n",
        "ts_data = _.history(\"max\")\n",
        "ts_data.index = ts_data.index.strftime('%Y-%m-%d')\n",
        "ts_data.columns"
      ],
      "id": "49de3449",
      "execution_count": null,
      "outputs": []
    },
    {
      "cell_type": "markdown",
      "metadata": {},
      "source": [
        "La prix de la clôture, c'est à dire, le prix final de l'indice à la fin de la session de trading sur Euronext Paris, est la bourse où l'indice est coté. Celà reflète l'impact des nouvelles économiques, des performances des entreprises comprises dans l'indice, et des mouvements généraux du marché.\n",
        "\n",
        "Nous l'utiliserons pour calculer le rendement (arithmétique) pour avoir le pourcentage de changement de prix pour l'indice CAC40 qui définit notre distribution de probabilité pour les gains ou les pertes quotidiens.\n",
        "\n",
        "Le rendement entre $t$ et $t-1$ se calcule comme suit :\n",
        "\n",
        "$$\n",
        "R_{t} = \\frac{P_{t}-P_{t-1}}{P_{t-1}}\n",
        "$$\n",
        "\n",
        "où $P_{t}$ est le prix de clôture à la date $t$.\n"
      ],
      "id": "f802d2c9"
    },
    {
      "cell_type": "code",
      "metadata": {},
      "source": [
        "import warnings\n",
        "warnings.filterwarnings('ignore')\n",
        "ts_data = ts_data[[ 'Close']]\n",
        "import pandas as pd\n",
        "import numpy as np\n",
        "\n",
        "\n",
        "ts_data['Return'] = ts_data[\"Close\"].pct_change()\n",
        "ts_data = ts_data.dropna(subset=['Return'])\n",
        "print(ts_data.head())"
      ],
      "id": "3d33b8db",
      "execution_count": null,
      "outputs": []
    },
    {
      "cell_type": "markdown",
      "metadata": {},
      "source": [
        "# Test de stationarité du log-rendement\n",
        "\n",
        "Pour utiliser le rendement comme variable profit et perte (PnL : Profit and Loss) pour impléter la VaR, nous devons tester sa stationarité. En effet, la stationarité est une propriété importante des séries temporelles financières. Une série temporelle est dite stationnaire si ses propriétés statistiques telles que la moyenne, la variance et la covariance restent constantes au fil du temps.\n"
      ],
      "id": "f6cc1001"
    },
    {
      "cell_type": "code",
      "metadata": {},
      "source": [
        "import matplotlib.pyplot as plt\n",
        "plt.figure(figsize=(6, 4))\n",
        "\n",
        "fig, ax = plt.subplots(1)\n",
        "\n",
        "ax.set_xlabel('Date')\n",
        "ax.set_ylabel('Historical Returns')\n",
        "ax.plot(ts_data.index, ts_data['Return'], color='grey')\n",
        "ax.tick_params(axis='y')\n",
        "\n",
        "plt.title('Historical Returns of CAC40')\n",
        "plt.show()"
      ],
      "id": "00b60573",
      "execution_count": null,
      "outputs": []
    },
    {
      "cell_type": "markdown",
      "metadata": {},
      "source": [
        "Il semblerait que la série des rendements est stationnaire. Nous allons tout de même en observant l'ACF et le PACF mais aussi effectuer un test de stationarité pour confirmer cette hypothèse.\n"
      ],
      "id": "dc9b65bd"
    },
    {
      "cell_type": "code",
      "metadata": {},
      "source": [
        "from statsmodels.graphics.tsaplots import plot_acf, plot_pacf\n",
        "fig, ax = plt.subplots(1,2, figsize=(8, 4))\n",
        "plot_acf(ts_data['Return'].dropna(), ax=ax[0],title='ACF')\n",
        "plot_pacf(ts_data['Return'].dropna(), ax=ax[1],title='PACF')\n",
        "plt.show()"
      ],
      "id": "856bb656",
      "execution_count": null,
      "outputs": []
    },
    {
      "cell_type": "markdown",
      "metadata": {},
      "source": [
        "L'autocorrélation(ACF) et l'autocorrélation partielle(PACF) décroissent de manière exponentielle, ce qui indique que la série est stationnaire. \n",
        "\n",
        "Pour plus de certitude, nous allons effectuer un test de Dickey-Fuller augmenté (ADF) pour tester la stationnaire dans la série :\n",
        "\n",
        "$$ \n",
        "H_0=\\rho = 1, \\alpha=0\n",
        "$$ \n",
        "\n",
        "Dans le cas d'une série AR(1)($X_t = \\alpha + \\rho X_{t-1} + \\xi_t$) avec intercept, la série est non stationnaire si $\\rho = 1$ et stationnaire si $\\rho < 1.  Dans le cas contraire, il faudrait considérer la série de différences pour la rendre stationnaire.\n"
      ],
      "id": "762ff030"
    },
    {
      "cell_type": "code",
      "metadata": {},
      "source": [
        "from statsmodels.tsa.stattools import adfuller\n",
        "adf_result = adfuller(ts_data['Return'].dropna(), regression='c')\n",
        "print(f\"ADF Statistic: {round(adf_result[0],2)} and p-value: {adf_result[1]}\")"
      ],
      "id": "59362a20",
      "execution_count": null,
      "outputs": []
    },
    {
      "cell_type": "markdown",
      "metadata": {},
      "source": [
        "La p-value du test de dickey fuller est environ égale à 0, ce qui signifie que nous rejetons l'hypothèse nulle selon laquelle la série n'est pas stationnaire. Ainsi la série des log-rendements est stationnaire. Nous pouvons donc utiliser les rendements logarithmiques pour calculer la VaR à horizon 1 jour.\n",
        "\n",
        "# Modélisation de la VaR\n",
        "\n",
        "Pour modéliser la VaR, nous considérons un échantillon d'apprentissage avec 75% (6513) des données et 25% (2172) pour l'échantillon de test.\n"
      ],
      "id": "c9cc5a3f"
    },
    {
      "cell_type": "code",
      "metadata": {},
      "source": [
        "train_size = int(len(ts_data)*0.75)\n",
        "test_size = len(ts_data)-train_size\n",
        "\n",
        "train_close = ts_data.iloc[0:train_size,:].dropna()\n",
        "test_close = ts_data.iloc[train_size:len(ts_data),:]\n",
        "print(\"Taille de l'ensemble d'apprentissage :\", len(train_close))\n",
        "print(\"Taille de l'ensemble de test :\", len(test_close))"
      ],
      "id": "df1ed4b9",
      "execution_count": null,
      "outputs": []
    },
    {
      "cell_type": "markdown",
      "metadata": {},
      "source": [
        "## VaR analytique\n",
        "\n",
        "Pour rappel, la VaR analytique ou gaussienne est basée sur la distribution gaussienne des rendements. Nous allons utiliser la distribution normale pour calculer la VaR à horizon 1 jour. La VaR à horizon 1 jour est définie comme suit :\n",
        "\n",
        "$$\n",
        "VaR = -\\mu_{PnL} + \\Phi^{-1}(\\alpha) \\times \\sigma_{PnL}\n",
        "$$\n",
        "où $\\Phi^{-1}(\\alpha)$ est le quantile de la distribution normale du PnL (Profit and Loss) à $\\alpha$.\n",
        "\n",
        "Pour ce faire, nous allons tester que les rendements suivent une loi normale. Nous utiliserons le test de Shapiro (`shapiro` dans la librairie `scipy.stats`) dont l'hypothèse nulle est que la population étudiée suit une distribution normale.\n"
      ],
      "id": "a6f8f88d"
    },
    {
      "cell_type": "code",
      "metadata": {},
      "source": [
        "from scipy import stats\n",
        "stats.shapiro(train_close[\"Return\"]).pvalue"
      ],
      "id": "1b67655a",
      "execution_count": null,
      "outputs": []
    },
    {
      "cell_type": "markdown",
      "metadata": {},
      "source": [
        "Nous obtenons une pvaleur quasiment nulle donc nous rejettons l'hypothèse de la distribution normale de nos rendements.\n",
        "Celà est plus visible avec le QQ-plot ci dessous qui montre clairement que les queues de distribution du rendement ne suit pas une loi normale.\n"
      ],
      "id": "d95c6374"
    },
    {
      "cell_type": "code",
      "metadata": {},
      "source": [
        "## Analyse graphique avec le QQ-plot\n",
        "plt.figure(figsize=(8, 6))\n",
        "probplot = stats.probplot(train_close[\"Return\"], \n",
        "                        sparams = (np.mean(train_close[\"Return\"]), np.std(train_close[\"Return\"])), \n",
        "                        dist='norm', plot=plt)\n",
        "plt.plot(probplot[0][0], probplot[0][0], color='red', linestyle='dashed', linewidth=2, label='Première bissectrice')\n",
        "plt.title('QQ-plot')"
      ],
      "id": "f6387501",
      "execution_count": null,
      "outputs": []
    },
    {
      "cell_type": "code",
      "metadata": {},
      "source": [
        "from scipy import stats\n",
        "def gaussian_var(PnL, seuil):\n",
        "    mean_PnL = np.mean(PnL)\n",
        "    sd_PnL = np.std(PnL)\n",
        "    VaR = - mean_PnL + sd_PnL * stats.norm.ppf(seuil)\n",
        "    return VaR\n",
        "\n",
        "seuil = 0.99\n",
        "VaR_gaussienne = gaussian_var(train_close[\"Return\"], seuil)\n",
        "\n",
        "print(f\"La VaR à horizon 1 jour est de {round(VaR_gaussienne, 4)}\")"
      ],
      "id": "f14942f3",
      "execution_count": null,
      "outputs": []
    },
    {
      "cell_type": "markdown",
      "metadata": {},
      "source": [
        "La VaR à horizon 1 jour est de 0.0324, ce qui signifie que la perte maximale en terme de rendements du portefeuille est de 3.24% en un jour. \n",
        "\n",
        "Sur 10 jours, la VaR est de $VaR_{1j} \\times \\sqrt{10}=$ 10.24%.\n",
        "Pour le visualiser sur la distribution des rendements, nous avons le graphique ci-dessous :"
      ],
      "id": "9db943a8"
    },
    {
      "cell_type": "code",
      "metadata": {},
      "source": [
        "# Plot histogram of returns\n",
        "plt.hist(train_close[\"Return\"], bins=50, density=True, alpha=0.7,color=\"grey\")\n",
        "\n",
        "# Plot VaR line\n",
        "plt.axvline(x=-VaR_gaussienne, color=\"orange\", linestyle=\"--\", linewidth=1)\n",
        "plt.axvline(x=0, color=\"grey\",  linewidth=0.5)\n",
        "\n",
        "# Add text for Loss and Gain\n",
        "plt.text(-0.01, plt.ylim()[1] * 0.9, 'Pertes', horizontalalignment='right', color='red')\n",
        "plt.text(0.01, plt.ylim()[1] * 0.9, 'Gains', horizontalalignment='left', color='green')\n",
        "\n",
        "\n",
        "# Add labels and title\n",
        "plt.xlabel(\"Returns\")\n",
        "plt.ylabel(\"Frequency\")\n",
        "plt.title(f\"Gaussian VaR at {seuil * 100}%, Var: {VaR_gaussienne:.4f}\")\n",
        "\n",
        "# Show the plot\n",
        "plt.show()"
      ],
      "id": "8b552029",
      "execution_count": null,
      "outputs": []
    },
    {
      "cell_type": "markdown",
      "metadata": {},
      "source": [
        "### Backtesting\n",
        "\n",
        "Pour backtester la VaR, nous allons comparer dans l'échantillon test les rendements avec la VaR à horizon 1 jour. Si le rendement est inférieur à l'opposé de la VaR gaussienne, alors la VaR est violée et celà correspond à une exception.\n",
        "\n",
        "Ci dessous, le graphique qui permet de visualiser le nombre d'exceptions que nous comptabilisons sur nos données test."
      ],
      "id": "61d44a96"
    },
    {
      "cell_type": "code",
      "metadata": {},
      "source": [
        "plt.plot(ts_data.index[0:train_size], train_close['Return'], label=\"historical train returns\", color = 'gray')\n",
        "plt.plot(ts_data.index[train_size:], test_close['Return'], label=\"historical test returns\", color = 'blue')\n",
        "plt.plot(ts_data.index[train_size:], [-VaR_gaussienne for i in range(test_size)], label=\"gaussian VaR\", color = 'red')\n",
        "list_exceptions_gaus = [i for i in range(len(test_close['Return'])) if test_close['Return'][i]<-VaR_gaussienne]\n",
        "plt.scatter(test_close.index[list_exceptions_gaus], test_close['Return'][list_exceptions_gaus], color='red', label='Exceptions')\n",
        "plt.title('CAC40')\n",
        "plt.ylabel('Values')\n",
        "plt.plot()\n",
        "plt.legend()\n",
        "plt.show()"
      ],
      "id": "0e2050c8",
      "execution_count": null,
      "outputs": []
    },
    {
      "cell_type": "markdown",
      "metadata": {},
      "source": [
        "Nous pouvons compter le nombre d'exceptions pour la VaR à horizon 1 jour qui est égale à 30 et en déduisons que le taux d'exception est 1.38%.\n"
      ],
      "id": "f8493230"
    },
    {
      "cell_type": "code",
      "metadata": {},
      "source": [
        "round((len(list_exceptions_gaus)/test_size)*100,2) "
      ],
      "id": "513a2af7",
      "execution_count": null,
      "outputs": []
    },
    {
      "cell_type": "markdown",
      "metadata": {},
      "source": [
        "Pour tester la pertinence de la VaR calculée, il faudrait idéalement que le taux d'exception soit inférieur à 1%. Pour ce faire, nous pouvons effectuer un test de proportion. Nous utiliserons la fonction `stats.binomtest` pour effectuer ce test.\n"
      ],
      "id": "246f390b"
    },
    {
      "cell_type": "code",
      "metadata": {},
      "source": [
        "def ptest(p0,n,k) :\n",
        "  variance=p0*(1-p0)/n\n",
        "  p=(k/n)\n",
        "  t=(p-p0)/np.sqrt(variance)\n",
        "\n",
        "  pvaleur=1-stats.norm.cdf(t)\n",
        "  return pvaleur\n",
        "\n",
        "ptest(0.01,test_size,len(list_exceptions_gaus))"
      ],
      "id": "c8023cea",
      "execution_count": null,
      "outputs": []
    },
    {
      "cell_type": "markdown",
      "metadata": {},
      "source": [
        "La pvaleur de ce test est 3.70%, celà est inférieur à 5% donc nous rejetons l'hypothèse nulle selon laquelle le taux d'exception est égale à 0.01 au risque 5% de se tromper. Celà nous indique que la VaR gaussienne n'est pas performante. Ceci n'est pas surprenant étant donné que nous faisons une hypothèse sur la distribution des rendements qui n'est pas vérifiée. \n",
        "\n",
        "## VaR historique\n",
        "\n",
        "La VaR historique est basée sur les rendements historiques. Elle est définie comme l'opposé du quantile de niveau $1-\\alpha$ des rendements historiques. \n",
        "\n",
        "Considérons les mouvements de prix quotidiens pour l'indice CAC40 au cours des 6513 jours de trading. Nous avons donc 6513 scénarios ou cas qui serviront de guide pour les performances futures de l'indice, c'est-à-dire que les 6513 derniers jours seront représentatifs de ce qui se passera demain.\n",
        "\n",
        "Ainsi donc la VaR historique pour un horizon de 1jour à 99% correspond au 1er percentile de la distribution de probabilité des rendements quotidiens (le top 1% des pires rendements).\n"
      ],
      "id": "a7eae377"
    },
    {
      "cell_type": "code",
      "metadata": {},
      "source": [
        "def historical_var(PnL, seuil):\n",
        "    return -np.percentile(PnL, (1 - seuil) * 100)\n",
        "\n",
        "VaR_historique = historical_var(train_close[\"Return\"],seuil)\n",
        "print(f\"La VaR historique à horizon 1 jour est de {round(VaR_historique, 4)}\")"
      ],
      "id": "5a623423",
      "execution_count": null,
      "outputs": []
    },
    {
      "cell_type": "markdown",
      "metadata": {},
      "source": [
        "Nous en déduisons que la perte maximale en terme de rendements du portefeuille est de 3.96% en un jour (soit 12.52% en 10jours)\n"
      ],
      "id": "5d44091c"
    },
    {
      "cell_type": "code",
      "metadata": {},
      "source": [
        "# Plot histogram of returns\n",
        "plt.hist(train_close[\"Return\"], bins=50, density=True, alpha=0.7,color=\"grey\")\n",
        "\n",
        "# Plot VaR line\n",
        "plt.axvline(x=-VaR_historique, color=\"orange\", linestyle=\"--\", linewidth=1)\n",
        "plt.axvline(x=0, color=\"grey\",  linewidth=1)\n",
        "# Add text for Loss and Gain\n",
        "plt.text(- 0.01, plt.ylim()[1] * 0.9, 'Pertes', horizontalalignment='right', color='red')\n",
        "plt.text(0.01, plt.ylim()[1] * 0.9, 'Gains', horizontalalignment='left', color='green')\n",
        "\n",
        "\n",
        "# Add labels and title\n",
        "plt.xlabel(\"Returns\")\n",
        "plt.ylabel(\"Frequency\")\n",
        "plt.title(f\"Historical VaR at {seuil * 100}% Var: {VaR_historique:.4f}\")\n",
        "\n",
        "# Show the plot\n",
        "plt.show()"
      ],
      "id": "afce0367",
      "execution_count": null,
      "outputs": []
    },
    {
      "cell_type": "markdown",
      "metadata": {},
      "source": [
        "### Backtesting\n",
        "\n",
        "En ce qui concerne le backtesting, nous pouvons voir que la VaR historique est beaucoup moins violée dans l'échantillon test que la VaR gaussienne. Le taux d'exception est de 0.64%.\n"
      ],
      "id": "8ff70875"
    },
    {
      "cell_type": "code",
      "metadata": {},
      "source": [
        "import matplotlib.pyplot as plt\n",
        "plt.plot(ts_data.index[0:train_size], train_close['Return'], label=\"historical train returns\", color = 'gray')\n",
        "plt.plot(ts_data.index[train_size:], test_close['Return'], label=\"historical test returns\", color = 'blue')\n",
        "plt.plot(ts_data.index[train_size:], [-VaR_historique for i in range(test_size)], label=\"historical VaR\", color = 'red')\n",
        "list_exceptions_hist = [i for i in range(len(test_close['Return'])) if test_close['Return'][i]<-VaR_historique]\n",
        "plt.scatter(test_close.index[list_exceptions_hist], test_close['Return'][list_exceptions_hist], color='red', label='Exceptions')\n",
        "plt.title('CAC40')\n",
        "plt.ylabel('Values')\n",
        "plt.plot()\n",
        "plt.legend()\n",
        "plt.show()"
      ],
      "id": "30d88541",
      "execution_count": null,
      "outputs": []
    },
    {
      "cell_type": "markdown",
      "metadata": {},
      "source": [
        "Nous pouvons compter le nombre d'exceptions pour la VaR à horizon 1 jour qui est égale à 14 et en déduisons que le taux d'exception est 0.64%. Ce taux d'exception est statistiquement supérieur à 1% (car la pvaleur est d'environ 0.95). Ainsi, la VaR historique est performante pour la période considérée.\n"
      ],
      "id": "671718d7"
    },
    {
      "cell_type": "code",
      "metadata": {},
      "source": [
        "round((len(list_exceptions_hist)/test_size)*100,2) \n",
        "ptest(0.01,test_size,len(list_exceptions_hist))"
      ],
      "id": "5c32a869",
      "execution_count": null,
      "outputs": []
    },
    {
      "cell_type": "markdown",
      "metadata": {},
      "source": [
        "## VaR Monte Carlo\n",
        "\n",
        "La VaR Monte Carlo est basée sur la simulation de trajectoires de rendements. Nous allons simuler jusqu'à 10000 scénarios de rendements et calculer la VaR à horizon 1 jour en posant une hypothèse de normalité sur la distribution des rendements afin de voir quand est ce que la VaR se stabilise.\n"
      ],
      "id": "a5a75f8e"
    },
    {
      "cell_type": "code",
      "metadata": {},
      "source": [
        "VaR_results = []\n",
        "\n",
        "num_simulations_list = range(10, 10000 + 1, 1)\n",
        "mean=train_close[\"Return\"].mean()\n",
        "std = train_close[\"Return\"].std()\n",
        "\n",
        "for num_simulations in num_simulations_list:\n",
        "  # Generate random scenarios of future returns\n",
        "  simulated_returns = np.random.normal(mean, std, size= num_simulations)\n",
        "\n",
        "  # Calculate portfolio values for each scenario\n",
        "  portfolio_values = (train_close[\"Close\"].iloc[-1] * (1 + simulated_returns))\n",
        "\n",
        "  # Convert portfolio_values into a DataFrame\n",
        "  portfolio_values = pd.DataFrame(portfolio_values)\n",
        "\n",
        "  # Calculate portfolio returns for each scenario\n",
        "  portfolio_returns = portfolio_values.pct_change()\n",
        "  portfolio_returns=portfolio_returns.dropna()\n",
        "  portfolio_returns=portfolio_returns.mean(axis=1)\n",
        "\n",
        "\n",
        "  # Calculate VaR\n",
        "  if portfolio_returns.iloc[-1] != 0:\n",
        "      VaR_monte_carlo =  historical_var(portfolio_returns,seuil)\n",
        "  else:\n",
        "      VaR_monte_carlo = 0\n",
        "  \n",
        "  VaR_results.append(VaR_monte_carlo)"
      ],
      "id": "43c9ec06",
      "execution_count": null,
      "outputs": []
    },
    {
      "cell_type": "code",
      "metadata": {},
      "source": [
        "# Plotting the results\n",
        "plt.figure(figsize=(10, 6))\n",
        "plt.xticks(np.arange(0,10000 + 1, 1000))\n",
        "plt.plot(num_simulations_list, VaR_results, linestyle='-')\n",
        "plt.xlabel('Number of Simulations')\n",
        "plt.ylabel('Value at Risk (VaR)')\n",
        "plt.title('VaR vs Number of Simulations')\n",
        "plt.grid(True)\n",
        "plt.show()\n",
        "# Customize x-axis ticks"
      ],
      "id": "95710825",
      "execution_count": null,
      "outputs": []
    },
    {
      "cell_type": "markdown",
      "metadata": {},
      "source": [
        "Visuellement, la VaR se stabilise à partir de 3000 scénarios. Nous utiliserons donc 3000 simulations de rendements. Nous en déduisons que la perte maximale en terme de rendements du portefeuille est de 4.31% en un jour (soit 13.98% en 10jours)\n"
      ],
      "id": "bede6c30"
    },
    {
      "cell_type": "code",
      "metadata": {},
      "source": [
        "num_simulations = 3000\n",
        "\n",
        "# Generate random scenarios of future returns\n",
        "simulated_returns = np.random.normal(mean, std, size= num_simulations)\n",
        "\n",
        "# Calculate portfolio values for each scenario\n",
        "portfolio_values = (train_close[\"Close\"].iloc[-1] * (1 + simulated_returns))\n",
        "\n",
        "# Convert portfolio_values into a DataFrame\n",
        "portfolio_values = pd.DataFrame(portfolio_values)\n",
        "\n",
        "# Calculate portfolio returns for each scenario\n",
        "portfolio_returns = portfolio_values.pct_change()\n",
        "portfolio_returns=portfolio_returns.dropna()\n",
        "portfolio_returns=portfolio_returns.mean(axis=1)\n",
        "\n",
        "\n",
        "# Calculate VaR\n",
        "if portfolio_returns.iloc[-1] != 0:\n",
        "    VaR_monte_carlo =  historical_var(portfolio_returns,seuil)\n",
        "else:\n",
        "    VaR_monte_carlo = 0\n",
        "\n",
        "VaR_monte_carlo"
      ],
      "id": "b4d43a43",
      "execution_count": null,
      "outputs": []
    },
    {
      "cell_type": "code",
      "metadata": {},
      "source": [
        "# Plot histogram of returns\n",
        "plt.hist(portfolio_returns, bins=50, density=True, alpha=0.7,color=\"grey\")\n",
        "\n",
        "# Plot VaR line\n",
        "plt.axvline(x=-VaR_monte_carlo, color=\"orange\", linestyle=\"--\", linewidth=1)\n",
        "plt.axvline(x=0, color=\"grey\",  linewidth=1)\n",
        "# Add text for Loss and Gain\n",
        "plt.text(- 0.01, plt.ylim()[1] * 0.9, 'Pertes', horizontalalignment='right', color='red')\n",
        "plt.text(0.01, plt.ylim()[1] * 0.9, 'Gains', horizontalalignment='left', color='green')\n",
        "\n",
        "\n",
        "# Add labels and title\n",
        "plt.xlabel(\"Returns\")\n",
        "plt.ylabel(\"Frequency\")\n",
        "plt.title(f\"Simulated Returns, Monte carlo VaR at {seuil * 100}% Var: {VaR_monte_carlo:.4f}\")\n",
        "\n",
        "# Show the plot\n",
        "plt.show()"
      ],
      "id": "17bf4493",
      "execution_count": null,
      "outputs": []
    },
    {
      "cell_type": "markdown",
      "metadata": {},
      "source": [
        "### Backtesting\n",
        "\n",
        "En ce qui concerne le backtesting, nous pouvons voir que la VaR historique est beaucoup moins violée dans l'échantillon test que les deux autres VaRs. En effet, le taux d'exception est de 0.37%.\n"
      ],
      "id": "b9b95c31"
    },
    {
      "cell_type": "code",
      "metadata": {},
      "source": [
        "plt.plot(ts_data.index[0:train_size], train_close['Return'], label=\"historical train log returns\", color = 'gray')\n",
        "plt.plot(ts_data.index[train_size:], test_close['Return'], label=\"historical test log returns\", color = 'blue')\n",
        "plt.plot(ts_data.index[train_size:], [-VaR_monte_carlo for i in range(test_size)], label=\"Non parametric Bootstrap VaR\", color = 'red')\n",
        "list_exceptions_np_boot = [i for i in range(len(test_close['Return'])) if test_close['Return'][i]<-VaR_monte_carlo]\n",
        "plt.scatter(test_close.index[list_exceptions_np_boot], test_close['Return'][list_exceptions_np_boot], color='red', label='Exceptions')\n",
        "plt.title('CAC40')\n",
        "plt.ylabel('Values')\n",
        "plt.plot()\n",
        "plt.legend()\n",
        "plt.show()"
      ],
      "id": "9b069099",
      "execution_count": null,
      "outputs": []
    },
    {
      "cell_type": "markdown",
      "metadata": {},
      "source": [
        "Ce taux est statistiquement inférieur à 1% ce qui temoigne de la performance de la VaR monte carlo."
      ],
      "id": "9d2dabee"
    },
    {
      "cell_type": "code",
      "metadata": {},
      "source": [
        "round((len(list_exceptions_np_boot)/test_size)*100,2) \n",
        "ptest(0.01,test_size,len(list_exceptions_np_boot))"
      ],
      "id": "734a3b5d",
      "execution_count": null,
      "outputs": []
    },
    {
      "cell_type": "markdown",
      "metadata": {},
      "source": [
        "# Comparaison des VaRs\n",
        "\n",
        "Comme on peut le constater, les différentes méthodes d'implémentations de VaR donnent des résultats différents. Toutefois, la VaR la plus performante est la VaR monte carlo en faisant l'hypothèse de distribution normale des rendements.\n"
      ],
      "id": "0a4007bc"
    },
    {
      "cell_type": "code",
      "metadata": {},
      "source": [
        "# Print the VaR values\n",
        "print(f\"Parametric VaR: {VaR_gaussienne:.2%}, Pvalue du backtesting: {ptest(0.01, test_size, len(list_exceptions_gaus)):.4f}\")\n",
        "print(f\"Historical VaR: {VaR_historique:.2%}, Pvalue du backtesting: {ptest(0.01, test_size, len(list_exceptions_hist)):.4f}\")\n",
        "print(f\"Monte Carlo VaR: {VaR_monte_carlo:.2%}, Pvalue du backtesting: {ptest(0.01, test_size, len(list_exceptions_np_boot)):.4f}\")"
      ],
      "id": "950cc49f",
      "execution_count": null,
      "outputs": []
    }
  ],
  "metadata": {
    "kernelspec": {
      "name": "python3",
      "language": "python",
      "display_name": "Python 3 (ipykernel)"
    }
  },
  "nbformat": 4,
  "nbformat_minor": 5
}