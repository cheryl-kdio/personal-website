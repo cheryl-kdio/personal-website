{
  "cells": [
    {
      "cell_type": "markdown",
      "metadata": {},
      "source": [
        "# Cheryl KOUADIO\n",
        "\n",
        "Je suis Cheryl Kouadio, étudiante en gestion des risques bancaires à\n",
        "l’ENSAI. Je me spécialise dans la modélisation des risques financiers,\n",
        "en particulier les risques de marché et de crédit, ainsi que dans\n",
        "l’étude des normes financières, comptables et réglementaires encadrant\n",
        "le système bancaire (Bâle III, IFRS 9, etc.).\n",
        "\n",
        "Ce site web, conçu et généré avec Quarto, s’adresse principalement aux\n",
        "étudiants de l’ENSAI et a pour vocation d’offrir un soutien à ceux qui,\n",
        "comme moi, ont été confrontés à des défis académiques au cours de leur\n",
        "formation, notamment en deuxième et troisième année. Il ne prétend en\n",
        "aucun cas se substituer à l’enseignement dispensé par nos professeurs,\n",
        "dont la rigueur et l’expertise sont essentielles. Son objectif est\n",
        "plutôt de compléter leur travail en partageant mes expériences\n",
        "personnelles et les projets que j’ai réalisés.\n",
        "\n",
        "Au-delà de son utilité pour les étudiants, ce site constitue également\n",
        "une ressource précieuse pour les professionnels souhaitant revisiter\n",
        "certains concepts clés en gestion des risques ou même en statistiques.\n",
        "Il propose des exemples concrets et des pistes de réflexion adaptées aux\n",
        "problématiques actuelles, afin d’aider chacun à mieux appréhender ses\n",
        "projets et à relever ses propres défis académiques et professionnels."
      ],
      "id": "cd0f8b9d-a021-4b12-88cb-8100de0a3b34"
    }
  ],
  "nbformat": 4,
  "nbformat_minor": 5,
  "metadata": {
    "kernelspec": {
      "display_name": "Python 3",
      "language": "python",
      "name": "python3"
    }
  }
}