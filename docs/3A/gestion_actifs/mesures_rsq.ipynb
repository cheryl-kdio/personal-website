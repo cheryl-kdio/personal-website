{
 "cells": [
  {
   "cell_type": "markdown",
   "metadata": {},
   "source": [
    "# Gestion de portefeuille"
   ]
  },
  {
   "cell_type": "markdown",
   "metadata": {},
   "source": [
    "Pour gérer les risques, on procède en trois étapes :\n",
    "1. Identification : Nous avons un portefeuille d'action, donc le risque auquel on fait face est le risque de marché action.\n",
    "\n",
    "2. Metrique de risque : Volatilité ex-ante, Value at Risk ex-ante, Tracking error ex-ante (i.e. par anticipation, on se base sur l'état du portefeuille à l'instant t et non aux instants passés - ex-post)\n",
    "\n",
    "3. Encadrement\n",
    "\n",
    "Dans notre cas, on va constituer le portefeuille avec 10 actifs du CAC 40 de notre choix et leur allouer des poids aléatoires"
   ]
  },
  {
   "cell_type": "code",
   "execution_count": 15,
   "metadata": {},
   "outputs": [],
   "source": [
    "# ! pip install yfinance\n",
    "from datetime import datetime, timedelta\n",
    "import yfinance as yf \n",
    "import numpy as np\n",
    "import pandas as pd\n"
   ]
  },
  {
   "cell_type": "code",
   "execution_count": 16,
   "metadata": {},
   "outputs": [],
   "source": [
    "\n",
    "def get_data(start_date, end_date, index_ticker, tickers):\n",
    "    \"\"\"\n",
    "    Extraction de données de cours d'actions\n",
    "    Args:\n",
    "        start_date (str): Date de début au format 'YYYY-MM-DD'.\n",
    "        end_date (str): Date de fin au format 'YYYY-MM-DD'.\n",
    "\n",
    "    Returns:\n",
    "        dict: Contient les prix historiques des indices\n",
    "    \"\"\"\n",
    "    # Extraction des prix historiques des composants\n",
    "    data = yf.download(tickers, start=start_date, end=end_date, auto_adjust =True)['Close']\n",
    "\n",
    "    # Extraction des prix historiques de l'indice CAC 40\n",
    "    index = yf.download(index_ticker, start=start_date, end=end_date, auto_adjust =True)['Close']\n",
    "\n",
    "    return {\n",
    "        \"portfolio_data\": data,\n",
    "        \"benchmark_data\": index,\n",
    "    }"
   ]
  },
  {
   "cell_type": "code",
   "execution_count": 17,
   "metadata": {},
   "outputs": [
    {
     "name": "stderr",
     "output_type": "stream",
     "text": [
      "[*********************100%***********************]  10 of 10 completed\n",
      "[*********************100%***********************]  1 of 1 completed\n"
     ]
    }
   ],
   "source": [
    "end_date = datetime.now()\n",
    "start_date = end_date - timedelta(days=2*365)\n",
    "\n",
    "selected_assets = {\n",
    "    \"SAN.PA\" : \"Sanofi\",\n",
    "    \"GLE.PA\" : \"Société générale\",\n",
    "    \"HO.PA\" : \"Thales\",\n",
    "    \"ENGI.PA\" : \"Engie\",\n",
    "    \"CAP.PA\" : \"Capgemini\",\n",
    "    \"CA.PA\" : \"Carrefour\",\n",
    "    \"ORA.PA\" : \"Orange\",\n",
    "    \"AC.PA\" : \"Accor\",\n",
    "    \"OR.PA\" : \"L'Oreal\",\n",
    "    \"ACA.PA\" : \"Crédit agricole\"\n",
    "}\n",
    "\n",
    "index = \"^FCHI\"\n",
    "\n",
    "assets_ticker  = list(selected_assets.keys())\n",
    "\n",
    "data = get_data(start_date,end_date, index, assets_ticker)"
   ]
  },
  {
   "cell_type": "code",
   "execution_count": 18,
   "metadata": {},
   "outputs": [
    {
     "data": {
      "text/html": [
       "<div>\n",
       "<style scoped>\n",
       "    .dataframe tbody tr th:only-of-type {\n",
       "        vertical-align: middle;\n",
       "    }\n",
       "\n",
       "    .dataframe tbody tr th {\n",
       "        vertical-align: top;\n",
       "    }\n",
       "\n",
       "    .dataframe thead th {\n",
       "        text-align: right;\n",
       "    }\n",
       "</style>\n",
       "<table border=\"1\" class=\"dataframe\">\n",
       "  <thead>\n",
       "    <tr style=\"text-align: right;\">\n",
       "      <th>Ticker</th>\n",
       "      <th>AC.PA</th>\n",
       "      <th>ACA.PA</th>\n",
       "      <th>CA.PA</th>\n",
       "      <th>CAP.PA</th>\n",
       "      <th>ENGI.PA</th>\n",
       "      <th>GLE.PA</th>\n",
       "      <th>HO.PA</th>\n",
       "      <th>OR.PA</th>\n",
       "      <th>ORA.PA</th>\n",
       "      <th>SAN.PA</th>\n",
       "    </tr>\n",
       "    <tr>\n",
       "      <th>Date</th>\n",
       "      <th></th>\n",
       "      <th></th>\n",
       "      <th></th>\n",
       "      <th></th>\n",
       "      <th></th>\n",
       "      <th></th>\n",
       "      <th></th>\n",
       "      <th></th>\n",
       "      <th></th>\n",
       "      <th></th>\n",
       "    </tr>\n",
       "  </thead>\n",
       "  <tbody>\n",
       "    <tr>\n",
       "      <th>2023-01-30</th>\n",
       "      <td>28.523273</td>\n",
       "      <td>9.320950</td>\n",
       "      <td>16.069134</td>\n",
       "      <td>166.543777</td>\n",
       "      <td>10.756802</td>\n",
       "      <td>23.891726</td>\n",
       "      <td>117.952934</td>\n",
       "      <td>364.161407</td>\n",
       "      <td>8.415675</td>\n",
       "      <td>83.109291</td>\n",
       "    </tr>\n",
       "    <tr>\n",
       "      <th>2023-01-31</th>\n",
       "      <td>28.590498</td>\n",
       "      <td>9.401023</td>\n",
       "      <td>16.005003</td>\n",
       "      <td>167.555466</td>\n",
       "      <td>10.796604</td>\n",
       "      <td>24.488684</td>\n",
       "      <td>116.229599</td>\n",
       "      <td>362.006897</td>\n",
       "      <td>8.508443</td>\n",
       "      <td>82.998215</td>\n",
       "    </tr>\n",
       "    <tr>\n",
       "      <th>2023-02-01</th>\n",
       "      <td>28.734554</td>\n",
       "      <td>9.433393</td>\n",
       "      <td>15.972937</td>\n",
       "      <td>170.349670</td>\n",
       "      <td>10.906063</td>\n",
       "      <td>24.573961</td>\n",
       "      <td>117.043396</td>\n",
       "      <td>356.596649</td>\n",
       "      <td>8.504066</td>\n",
       "      <td>82.100380</td>\n",
       "    </tr>\n",
       "    <tr>\n",
       "      <th>2023-02-02</th>\n",
       "      <td>29.579689</td>\n",
       "      <td>9.530503</td>\n",
       "      <td>16.078293</td>\n",
       "      <td>181.478287</td>\n",
       "      <td>10.707047</td>\n",
       "      <td>24.686171</td>\n",
       "      <td>113.165878</td>\n",
       "      <td>361.384430</td>\n",
       "      <td>8.443679</td>\n",
       "      <td>80.313980</td>\n",
       "    </tr>\n",
       "    <tr>\n",
       "      <th>2023-02-03</th>\n",
       "      <td>29.858200</td>\n",
       "      <td>9.591838</td>\n",
       "      <td>15.995840</td>\n",
       "      <td>182.104553</td>\n",
       "      <td>10.859626</td>\n",
       "      <td>24.986893</td>\n",
       "      <td>113.883942</td>\n",
       "      <td>368.087372</td>\n",
       "      <td>8.393794</td>\n",
       "      <td>78.805267</td>\n",
       "    </tr>\n",
       "  </tbody>\n",
       "</table>\n",
       "</div>"
      ],
      "text/plain": [
       "Ticker          AC.PA    ACA.PA      CA.PA      CAP.PA    ENGI.PA     GLE.PA  \\\n",
       "Date                                                                           \n",
       "2023-01-30  28.523273  9.320950  16.069134  166.543777  10.756802  23.891726   \n",
       "2023-01-31  28.590498  9.401023  16.005003  167.555466  10.796604  24.488684   \n",
       "2023-02-01  28.734554  9.433393  15.972937  170.349670  10.906063  24.573961   \n",
       "2023-02-02  29.579689  9.530503  16.078293  181.478287  10.707047  24.686171   \n",
       "2023-02-03  29.858200  9.591838  15.995840  182.104553  10.859626  24.986893   \n",
       "\n",
       "Ticker           HO.PA       OR.PA    ORA.PA     SAN.PA  \n",
       "Date                                                     \n",
       "2023-01-30  117.952934  364.161407  8.415675  83.109291  \n",
       "2023-01-31  116.229599  362.006897  8.508443  82.998215  \n",
       "2023-02-01  117.043396  356.596649  8.504066  82.100380  \n",
       "2023-02-02  113.165878  361.384430  8.443679  80.313980  \n",
       "2023-02-03  113.883942  368.087372  8.393794  78.805267  "
      ]
     },
     "execution_count": 18,
     "metadata": {},
     "output_type": "execute_result"
    }
   ],
   "source": [
    "portfolio_data = data[\"portfolio_data\"]\n",
    "portfolio_data.head()"
   ]
  },
  {
   "cell_type": "code",
   "execution_count": 19,
   "metadata": {},
   "outputs": [
    {
     "data": {
      "text/html": [
       "<div>\n",
       "<style scoped>\n",
       "    .dataframe tbody tr th:only-of-type {\n",
       "        vertical-align: middle;\n",
       "    }\n",
       "\n",
       "    .dataframe tbody tr th {\n",
       "        vertical-align: top;\n",
       "    }\n",
       "\n",
       "    .dataframe thead th {\n",
       "        text-align: right;\n",
       "    }\n",
       "</style>\n",
       "<table border=\"1\" class=\"dataframe\">\n",
       "  <thead>\n",
       "    <tr style=\"text-align: right;\">\n",
       "      <th>Ticker</th>\n",
       "      <th>^FCHI</th>\n",
       "    </tr>\n",
       "    <tr>\n",
       "      <th>Date</th>\n",
       "      <th></th>\n",
       "    </tr>\n",
       "  </thead>\n",
       "  <tbody>\n",
       "    <tr>\n",
       "      <th>2023-01-30</th>\n",
       "      <td>7082.009766</td>\n",
       "    </tr>\n",
       "    <tr>\n",
       "      <th>2023-01-31</th>\n",
       "      <td>7082.419922</td>\n",
       "    </tr>\n",
       "    <tr>\n",
       "      <th>2023-02-01</th>\n",
       "      <td>7077.109863</td>\n",
       "    </tr>\n",
       "    <tr>\n",
       "      <th>2023-02-02</th>\n",
       "      <td>7166.270020</td>\n",
       "    </tr>\n",
       "    <tr>\n",
       "      <th>2023-02-03</th>\n",
       "      <td>7233.939941</td>\n",
       "    </tr>\n",
       "  </tbody>\n",
       "</table>\n",
       "</div>"
      ],
      "text/plain": [
       "Ticker            ^FCHI\n",
       "Date                   \n",
       "2023-01-30  7082.009766\n",
       "2023-01-31  7082.419922\n",
       "2023-02-01  7077.109863\n",
       "2023-02-02  7166.270020\n",
       "2023-02-03  7233.939941"
      ]
     },
     "execution_count": 19,
     "metadata": {},
     "output_type": "execute_result"
    }
   ],
   "source": [
    "benchmark_data = data[\"benchmark_data\"]\n",
    "benchmark_data.head()"
   ]
  },
  {
   "cell_type": "code",
   "execution_count": 20,
   "metadata": {},
   "outputs": [],
   "source": [
    "# On attribue des poids équitables pour chaque action\n",
    "weights_by_asset = {ticker: 1 / len(assets_ticker) for ticker in assets_ticker}"
   ]
  },
  {
   "cell_type": "markdown",
   "metadata": {},
   "source": [
    "On souhaite connaitre la valeur totale du actifs du portefeuille, i.e. l'asset under management(AUM) :\n",
    "\n",
    "\n",
    "$$\n",
    "AUM(T_n) = \\sum_{i=1}^{10} \\omega_i \\times P_i(T_n)\n",
    "$$"
   ]
  },
  {
   "cell_type": "code",
   "execution_count": 21,
   "metadata": {},
   "outputs": [],
   "source": [
    "aum_series = portfolio_data.apply(lambda row: sum(weights_by_asset[ticker] * row[ticker] for ticker in weights_by_asset), axis=1)\n",
    "aum_series\n",
    "\n",
    "AUM = pd.DataFrame(aum_series, columns=[\"AUM\"])"
   ]
  },
  {
   "cell_type": "code",
   "execution_count": 22,
   "metadata": {},
   "outputs": [
    {
     "data": {
      "text/html": [
       "<div>\n",
       "<style scoped>\n",
       "    .dataframe tbody tr th:only-of-type {\n",
       "        vertical-align: middle;\n",
       "    }\n",
       "\n",
       "    .dataframe tbody tr th {\n",
       "        vertical-align: top;\n",
       "    }\n",
       "\n",
       "    .dataframe thead th {\n",
       "        text-align: right;\n",
       "    }\n",
       "</style>\n",
       "<table border=\"1\" class=\"dataframe\">\n",
       "  <thead>\n",
       "    <tr style=\"text-align: right;\">\n",
       "      <th></th>\n",
       "      <th>AUM</th>\n",
       "    </tr>\n",
       "    <tr>\n",
       "      <th>Date</th>\n",
       "      <th></th>\n",
       "    </tr>\n",
       "  </thead>\n",
       "  <tbody>\n",
       "    <tr>\n",
       "      <th>2023-01-30</th>\n",
       "      <td>82.874497</td>\n",
       "    </tr>\n",
       "    <tr>\n",
       "      <th>2023-01-31</th>\n",
       "      <td>82.658043</td>\n",
       "    </tr>\n",
       "    <tr>\n",
       "      <th>2023-02-01</th>\n",
       "      <td>82.421507</td>\n",
       "    </tr>\n",
       "    <tr>\n",
       "      <th>2023-02-02</th>\n",
       "      <td>83.536796</td>\n",
       "    </tr>\n",
       "    <tr>\n",
       "      <th>2023-02-03</th>\n",
       "      <td>84.256732</td>\n",
       "    </tr>\n",
       "  </tbody>\n",
       "</table>\n",
       "</div>"
      ],
      "text/plain": [
       "                  AUM\n",
       "Date                 \n",
       "2023-01-30  82.874497\n",
       "2023-01-31  82.658043\n",
       "2023-02-01  82.421507\n",
       "2023-02-02  83.536796\n",
       "2023-02-03  84.256732"
      ]
     },
     "execution_count": 22,
     "metadata": {},
     "output_type": "execute_result"
    }
   ],
   "source": [
    "AUM.head()"
   ]
  },
  {
   "cell_type": "code",
   "execution_count": 23,
   "metadata": {},
   "outputs": [
    {
     "data": {
      "image/png": "[encoded data removed]",
      "text/plain": [
       "<Figure size 1200x400 with 1 Axes>"
      ]
     },
     "metadata": {},
     "output_type": "display_data"
    }
   ],
   "source": [
    "# Evolution de la valeur totale du portefeuille\n",
    "\n",
    "import matplotlib.pyplot as plt\n",
    "\n",
    "plt.figure(figsize=(12, 4))\n",
    "plt.plot(AUM, label=\"AUM\")\n",
    "plt.title(\"Evolution de l'actif sous gestion\")\n",
    "plt.xlabel(\"Date\")\n",
    "plt.ylabel(\"Valeur\")\n",
    "plt.legend()\n",
    "\n",
    "plt.show()"
   ]
  },
  {
   "cell_type": "code",
   "execution_count": 24,
   "metadata": {},
   "outputs": [
    {
     "data": {
      "text/plain": [
       "Date\n",
       "2023-01-30         NaN\n",
       "2023-01-31   -0.002612\n",
       "2023-02-01   -0.002862\n",
       "2023-02-02    0.013532\n",
       "2023-02-03    0.008618\n",
       "Name: Variation, dtype: float64"
      ]
     },
     "execution_count": 24,
     "metadata": {},
     "output_type": "execute_result"
    }
   ],
   "source": [
    "# On s'interesse aux variations/rendements de l'AUM\n",
    "\n",
    "AUM[\"Variation\"] = AUM[\"AUM\"].pct_change()\n",
    "AUM[\"Variation\"].head()"
   ]
  },
  {
   "cell_type": "markdown",
   "metadata": {},
   "source": [
    "### Estimation de la volatilité"
   ]
  },
  {
   "cell_type": "markdown",
   "metadata": {},
   "source": [
    "Pour estimer la volatilité du portefeuille, on peut calculer l'écart-type des variations de l'AUM.\n",
    "On fait le choix de calculer une volatilité ex-ante en se basant sur les variation historiques des prix des actifs avec une profondeur historique de 2 ans. Vu qu'on a une volatilité quotidienne, on va l'annualiser en multipliant par $\\sqrt{252}$.\n",
    "\n",
    "En général, sur le marché action, la volatilité quotidienne est environ de 1% et la volatilité annuelle est entre 10% et 20%."
   ]
  },
  {
   "cell_type": "code",
   "execution_count": 25,
   "metadata": {},
   "outputs": [
    {
     "name": "stdout",
     "output_type": "stream",
     "text": [
      "Volatilité de la performance quotidienne :  0.87%\n",
      "Volatilité de la performance annuelle :  13.73%\n"
     ]
    }
   ],
   "source": [
    "# Calcul de la volatilité du portefeuille\n",
    "volatility_portfolio = np.std(AUM[\"Variation\"])\n",
    "annualized_volatility_portfolio = volatility_portfolio * np.sqrt(252)\n",
    "print(f\"Volatilité de la performance quotidienne : {volatility_portfolio : .2%}\")\n",
    "print(f\"Volatilité de la performance annuelle : {annualized_volatility_portfolio : .2%}\")"
   ]
  },
  {
   "cell_type": "code",
   "execution_count": 26,
   "metadata": {},
   "outputs": [
    {
     "name": "stdout",
     "output_type": "stream",
     "text": [
      "Volatilité de l'indice CAC 40 :  0.84%\n",
      "Volatilité de l'indice CAC 40 annuelle :  13.36%\n"
     ]
    }
   ],
   "source": [
    "# Calcul de la volatilité de l'indice CAC 40\n",
    "\n",
    "benchmark_data[\"Variation\"] = benchmark_data[\"^FCHI\"].pct_change()\n",
    "volatility_benchmark = np.std(benchmark_data[\"Variation\"])\n",
    "annualized_volatility_benchmark = volatility_benchmark * np.sqrt(252)\n",
    "\n",
    "print(f\"Volatilité de l'indice CAC 40 : {volatility_benchmark : .2%}\")\n",
    "print(f\"Volatilité de l'indice CAC 40 annuelle : {annualized_volatility_benchmark : .2%}\")"
   ]
  },
  {
   "cell_type": "markdown",
   "metadata": {},
   "source": [
    "On retrouve sur à peu près la même volatilité du portefeuille et celle du CAC 40. Il y a donc une certaine homogénéité."
   ]
  },
  {
   "cell_type": "markdown",
   "metadata": {},
   "source": [
    "### Estimation de la tracking error/erreur de suivi"
   ]
  },
  {
   "cell_type": "markdown",
   "metadata": {},
   "source": [
    "La tracking error est une mesure de l'écart entre la performance d'un portefeuille et celle de son indice de référence. Elle est calculée comme la volatilité de la différence entre les rendements du portefeuille et de l'indice de référence :\n",
    "\n",
    "$$\n",
    "TE = \\sqrt{Var(R_p - R_b)}\n",
    "$$\n",
    "\n",
    "La tracking error mesure l'incercitude du portefeuille par rapport à l'indice de référence, c'est une mesure relative. Plus la tracking error est élevée, plus le portefeuille est risqué. On ne souhaite sous ou sur-performer l'indice de référence. On souhaite suivre véritablement l'indice de référence.\n",
    "\n",
    "Pour l'annualiser, on multiplie par $\\sqrt{252}$ en supposant que les performances quotidiennes sont indépendantes et donc un utilise l'additivité des variances."
   ]
  },
  {
   "cell_type": "code",
   "execution_count": 68,
   "metadata": {},
   "outputs": [
    {
     "data": {
      "image/png": "[encoded data removed]",
      "text/plain": [
       "<Figure size 1200x400 with 1 Axes>"
      ]
     },
     "metadata": {},
     "output_type": "display_data"
    }
   ],
   "source": [
    "performance_relative = AUM[\"Variation\"] - benchmark_data[\"Variation\"]\n",
    "\n",
    "plt.figure(figsize=(12, 4))\n",
    "plt.plot(performance_relative, label=\"Performance\")\n",
    "plt.title(\"Performance du portefeuille par rapport à l'indice CAC 40\")\n",
    "plt.xlabel(\"Date\")\n",
    "plt.ylabel(\"Performance\")\n",
    "plt.legend()\n",
    "\n",
    "plt.show()"
   ]
  },
  {
   "cell_type": "code",
   "execution_count": 28,
   "metadata": {},
   "outputs": [
    {
     "name": "stdout",
     "output_type": "stream",
     "text": [
      "Tracking error :  0.51%\n",
      "Tracking error annualisé :  8.05%\n"
     ]
    }
   ],
   "source": [
    "# Calcul de la tracking error\n",
    "\n",
    "TE = np.std(AUM[\"Variation\"] - benchmark_data[\"Variation\"]) \n",
    "print(f\"Tracking error : {TE : .2%}\")\n",
    "\n",
    "TE_annualized = TE * np.sqrt(252)\n",
    "print(f\"Tracking error annualisé : {TE_annualized : .2%}\")"
   ]
  },
  {
   "cell_type": "markdown",
   "metadata": {},
   "source": [
    "### Estimation de la Value-at-Risk (VaR)"
   ]
  },
  {
   "cell_type": "markdown",
   "metadata": {},
   "source": [
    "La VaR est une mesure de risque qui donne une estimation de la perte maximale que l'on peut subir avec un certain niveau de confiance $\\alpha$ sur un horizon de temps donné. Par exemple, une VaR à 5% sur 1 jour de 1000 euros signifie que 95% du temps, on ne perdra pas plus de 1000 euros sur un jour.\n",
    "\n",
    "$$P(\\text{Loss} < \\text{VaR}) = \\alpha.$$\n",
    "\n",
    "On peut également raisonner en terme de gain, i.e. Profit and Loss (PnL).\n",
    "\n",
    "$$P(\\text{PnL} > - \\text{VaR}) = \\alpha.$$\n",
    "\n",
    "La VaR peut se calculer suivant trois approches :\n",
    "1. **Approche historique** : On se base sur les rendements passés selon l'horizon fixé pour estimer la VaR, à l'aide d'un quantile empirique d'ordre $\\alpha$. Autrement, on peut se baser sur les rendements journaliers et utiliser la méthode de **rescaling**, i.e. $VaR = \\sigma \\times \\Phi^{-1}(\\alpha)$.\n",
    "2. **Approche paramétrique** : On suppose que les rendements suivent une loi normale.\n",
    "3. **Approche Monte Carlo** : On simule les rendements futurs."
   ]
  },
  {
   "cell_type": "code",
   "execution_count": 50,
   "metadata": {},
   "outputs": [
    {
     "name": "stdout",
     "output_type": "stream",
     "text": [
      "VaR historique sur le portefeuille :  2.29%\n",
      "VaR historique sur 20 jours sur le portefeuille :  10.25%\n",
      "\n",
      " =*==*==*==*==*==*==*==*==*==*= \n",
      "\n",
      "VaR historique sur l'indice CAC 40 :  2.13%\n",
      "VaR historique sur 20 jours sur l'indice CAC 40 :  9.52%\n"
     ]
    }
   ],
   "source": [
    "# VaR historique\n",
    "seuil = 99/100\n",
    "\n",
    "VaR_hist_portfolio = np.percentile(AUM[\"Variation\"].dropna(), 100*(1- seuil))\n",
    "print(f\"VaR historique sur le portefeuille : {- VaR_hist_portfolio : .2%}\")\n",
    "print(f\"VaR historique sur 20 jours sur le portefeuille : {-VaR_hist_portfolio*np.sqrt(20) : .2%}\")\n",
    "\n",
    "print(\"\\n\",\"=*=\"*10,\"\\n\")\n",
    "VaR_hist_benchmark = np.percentile(benchmark_data[\"Variation\"].dropna(), 100*(1 - seuil))\n",
    "print(f\"VaR historique sur l'indice CAC 40 : {-VaR_hist_benchmark : .2%}\")\n",
    "print(f\"VaR historique sur 20 jours sur l'indice CAC 40 : {-VaR_hist_benchmark*np.sqrt(20) : .2%}\")"
   ]
  },
  {
   "cell_type": "code",
   "execution_count": 67,
   "metadata": {},
   "outputs": [
    {
     "name": "stdout",
     "output_type": "stream",
     "text": [
      "mu sur le portefeuille :  0.00022\n",
      "sigma sur le portefeuille :  0.0087\n",
      "VaR paramétrique sur le portefeuille :  1.99%\n",
      "VaR paramétrique sur 20 jours sur le portefeuille :  8.90%\n",
      "\n",
      " =*==*==*==*==*==*==*==*==*==*= \n",
      "\n",
      "mu sur le benchmark:  0.00025\n",
      "sigma sur le benchmark :  0.0084\n",
      "VaR paramétrique sur le portefeuille :  1.93%\n",
      "VaR paramétrique sur 20 jours sur le portefeuille :  8.65%\n"
     ]
    }
   ],
   "source": [
    "# VaR paramétrique\n",
    "# PnL ~ N(mu, sigma) ==> PnL = mu + sigma * Z, où Z ~ N(0,1)\n",
    "# P(PnL > -VaR) = alpha <=> P(mu + sigma * Z > -VaR) = alpha <=> P(Z < (-VaR - mu) / sigma) = 1 - alpha\n",
    "# Donc, -VaR = mu + sigma * quantile(1 - alpha), où quantile(1 - alpha) est le quantile de la loi normale standard\n",
    "\n",
    "from scipy.stats import norm\n",
    "\n",
    "mu = np.mean(AUM[\"Variation\"].dropna())\n",
    "print(f\"mu sur le portefeuille : {mu : .2}\")\n",
    "sigma = np.std(AUM[\"Variation\"].dropna())\n",
    "print(f\"sigma sur le portefeuille : {sigma : .2}\")\n",
    "\n",
    "VaR_param_portfolio  = -(mu + sigma * norm.ppf(1 - seuil))\n",
    "\n",
    "print(f\"VaR paramétrique sur le portefeuille : {VaR_param_portfolio : .2%}\")\n",
    "print(f\"VaR paramétrique sur 20 jours sur le portefeuille : {VaR_param_portfolio * np.sqrt(20): .2%}\")\n",
    "\n",
    "print(\"\\n\",\"=*=\"*10,\"\\n\")\n",
    "\n",
    "mu = np.mean(benchmark_data[\"Variation\"].dropna())\n",
    "print(f\"mu sur le benchmark: {mu : .2}\")\n",
    "sigma = np.std(benchmark_data[\"Variation\"].dropna())\n",
    "print(f\"sigma sur le benchmark : {sigma : .2}\")\n",
    "\n",
    "VaR_param_benchmark  = -(mu + sigma * norm.ppf(1 - seuil))\n",
    "\n",
    "print(f\"VaR paramétrique sur le portefeuille : {VaR_param_benchmark : .2%}\")\n",
    "print(f\"VaR paramétrique sur 20 jours sur le portefeuille : {VaR_param_benchmark * np.sqrt(20): .2%}\")\n"
   ]
  },
  {
   "cell_type": "markdown",
   "metadata": {},
   "source": [
    "La VaR relative suit une philosophie proche du tracking error. Elle se calcule sur les écarts entre le portefeuille et le benchmark. Elle sert à mesurer de combien mon portefeuille sous-performe par rapport à l'indice de référence."
   ]
  },
  {
   "cell_type": "code",
   "execution_count": 70,
   "metadata": {},
   "outputs": [
    {
     "name": "stdout",
     "output_type": "stream",
     "text": [
      "VaR historique relative :  1.07%\n",
      "VaR historique relative sur 20 jours :  4.80%\n",
      "\n",
      " =*==*==*==*==*==*==*==*==*==*= \n",
      "\n",
      "mu des performances relatives: -2.6e-05\n",
      "sigma des performances relatives :  0.0051\n",
      "VaR paramétrique relative :  1.18%\n",
      "VaR paramétrique relative sur 20 jours :  5.29%\n"
     ]
    }
   ],
   "source": [
    "performance_relative\n",
    "\n",
    "\n",
    "VaR_hist_relative = np.percentile(performance_relative.dropna(), 100*(1- seuil))\n",
    "print(f\"VaR historique relative : {- VaR_hist_relative : .2%}\")\n",
    "print(f\"VaR historique relative sur 20 jours : {-VaR_hist_relative*np.sqrt(20) : .2%}\")\n",
    "\n",
    "print(\"\\n\",\"=*=\"*10,\"\\n\")\n",
    "\n",
    "mu = np.mean(performance_relative.dropna())\n",
    "print(f\"mu des performances relatives: {mu : .2}\")\n",
    "sigma = np.std(performance_relative.dropna())\n",
    "print(f\"sigma des performances relatives : {sigma : .2}\")\n",
    "\n",
    "VaR_param_relative  = -(mu + sigma * norm.ppf(1 - seuil))\n",
    "\n",
    "print(f\"VaR paramétrique relative : {VaR_param_relative : .2%}\")\n",
    "print(f\"VaR paramétrique relative sur 20 jours : {VaR_param_relative * np.sqrt(20): .2%}\")\n"
   ]
  },
  {
   "cell_type": "markdown",
   "metadata": {},
   "source": [
    "# Stress test"
   ]
  },
  {
   "cell_type": "markdown",
   "metadata": {},
   "source": [
    "Les stress test permettent de tester les performances du portefeuille dans des conditions extrêmes. Ils sont de deux natures :\n",
    "1. Stress test historique : On soumet le portefeuille à une période historique ou on estime avoir eu une condition extrême (Covid, Subprime crisis). On rejoue un scénario qui s'est déjà passé.\n",
    "\n",
    "2. Stress test hypothétique : On joue un scénario qui ne s'est jamais réalisé. Exemple, si les actions chutent de 40%, notre portefeuille d'action chute de 40%.\n",
    "\n",
    "*Note : **bp** = 0,01%*"
   ]
  },
  {
   "cell_type": "code",
   "execution_count": 93,
   "metadata": {},
   "outputs": [
    {
     "name": "stderr",
     "output_type": "stream",
     "text": [
      "[*******************   40%                       ]  4 of 10 completed"
     ]
    },
    {
     "name": "stderr",
     "output_type": "stream",
     "text": [
      "[*********************100%***********************]  10 of 10 completed\n",
      "[*********************100%***********************]  1 of 1 completed\n",
      "[*********************100%***********************]  10 of 10 completed\n",
      "[*********************100%***********************]  1 of 1 completed\n"
     ]
    }
   ],
   "source": [
    "# Recuperons les prix des actifs le 19/02/2020 et le 18/03/2020\n",
    "# On va valoriser notre portefeuille à ces dates et calculer les performances\n",
    "# A ces dates, le CAC 40 a connu de fortes pertes pendant la COVID-19\n",
    "# data_1902 = get_data\n",
    "\n",
    "start_date = pd.to_datetime(\"19-02-2020\", dayfirst=True)\n",
    "end_date = start_date + timedelta(days=1)\n",
    "\n",
    "\n",
    "data_1902 = get_data(start_date,end_date, index, assets_ticker)\n",
    "portfolio_data_1902=data_1902[\"portfolio_data\"]\n",
    "benchmark_data_1902=data_1902['benchmark_data']\n",
    "\n",
    "start_date = pd.to_datetime(\"18-03-2020\", dayfirst=True)\n",
    "end_date = start_date + timedelta(days=1)\n",
    "\n",
    "\n",
    "data_1803 = get_data(start_date,end_date, index, assets_ticker)\n",
    "portfolio_data_1803=data_1803[\"portfolio_data\"]\n",
    "benchmark_data_1803=data_1803['benchmark_data']\n",
    "\n",
    "# Concaténer les données des deux dates pour le portefeuille et le benchmark\n",
    "portfolio_data_stress = pd.concat([portfolio_data_1902, portfolio_data_1803], ignore_index=False)\n",
    "benchmark_data_stress = pd.concat([benchmark_data_1902, benchmark_data_1803], ignore_index=False)"
   ]
  },
  {
   "cell_type": "code",
   "execution_count": 94,
   "metadata": {},
   "outputs": [
    {
     "data": {
      "text/html": [
       "<div>\n",
       "<style scoped>\n",
       "    .dataframe tbody tr th:only-of-type {\n",
       "        vertical-align: middle;\n",
       "    }\n",
       "\n",
       "    .dataframe tbody tr th {\n",
       "        vertical-align: top;\n",
       "    }\n",
       "\n",
       "    .dataframe thead th {\n",
       "        text-align: right;\n",
       "    }\n",
       "</style>\n",
       "<table border=\"1\" class=\"dataframe\">\n",
       "  <thead>\n",
       "    <tr style=\"text-align: right;\">\n",
       "      <th></th>\n",
       "      <th>AUM</th>\n",
       "      <th>Variation</th>\n",
       "    </tr>\n",
       "    <tr>\n",
       "      <th>Date</th>\n",
       "      <th></th>\n",
       "      <th></th>\n",
       "    </tr>\n",
       "  </thead>\n",
       "  <tbody>\n",
       "    <tr>\n",
       "      <th>2020-02-19</th>\n",
       "      <td>63.099166</td>\n",
       "      <td>NaN</td>\n",
       "    </tr>\n",
       "    <tr>\n",
       "      <th>2020-03-18</th>\n",
       "      <td>43.756627</td>\n",
       "      <td>-0.306542</td>\n",
       "    </tr>\n",
       "  </tbody>\n",
       "</table>\n",
       "</div>"
      ],
      "text/plain": [
       "                  AUM  Variation\n",
       "Date                            \n",
       "2020-02-19  63.099166        NaN\n",
       "2020-03-18  43.756627  -0.306542"
      ]
     },
     "execution_count": 94,
     "metadata": {},
     "output_type": "execute_result"
    }
   ],
   "source": [
    "# Stress test covid sur le portefeuille\n",
    "aum_series_stress = portfolio_data_stress.apply(lambda row: sum(weights_by_asset[ticker] * row[ticker] for ticker in weights_by_asset), axis=1)\n",
    "\n",
    "AUM_stress = pd.DataFrame(aum_series_stress, columns=[\"AUM\"])\n",
    "AUM_stress[\"Variation\"] = AUM_stress[\"AUM\"].pct_change()\n",
    "\n",
    "AUM_stress"
   ]
  },
  {
   "cell_type": "code",
   "execution_count": 95,
   "metadata": {},
   "outputs": [
    {
     "data": {
      "text/html": [
       "<div>\n",
       "<style scoped>\n",
       "    .dataframe tbody tr th:only-of-type {\n",
       "        vertical-align: middle;\n",
       "    }\n",
       "\n",
       "    .dataframe tbody tr th {\n",
       "        vertical-align: top;\n",
       "    }\n",
       "\n",
       "    .dataframe thead th {\n",
       "        text-align: right;\n",
       "    }\n",
       "</style>\n",
       "<table border=\"1\" class=\"dataframe\">\n",
       "  <thead>\n",
       "    <tr style=\"text-align: right;\">\n",
       "      <th>Ticker</th>\n",
       "      <th>^FCHI</th>\n",
       "      <th>Variation</th>\n",
       "    </tr>\n",
       "    <tr>\n",
       "      <th>Date</th>\n",
       "      <th></th>\n",
       "      <th></th>\n",
       "    </tr>\n",
       "  </thead>\n",
       "  <tbody>\n",
       "    <tr>\n",
       "      <th>2020-02-19</th>\n",
       "      <td>6111.240234</td>\n",
       "      <td>NaN</td>\n",
       "    </tr>\n",
       "    <tr>\n",
       "      <th>2020-03-18</th>\n",
       "      <td>3754.840088</td>\n",
       "      <td>-0.385585</td>\n",
       "    </tr>\n",
       "  </tbody>\n",
       "</table>\n",
       "</div>"
      ],
      "text/plain": [
       "Ticker            ^FCHI  Variation\n",
       "Date                              \n",
       "2020-02-19  6111.240234        NaN\n",
       "2020-03-18  3754.840088  -0.385585"
      ]
     },
     "execution_count": 95,
     "metadata": {},
     "output_type": "execute_result"
    }
   ],
   "source": [
    "benchmark_data_stress[\"Variation\"]=benchmark_data_stress[\"^FCHI\"].pct_change()\n",
    "benchmark_data_stress"
   ]
  },
  {
   "cell_type": "markdown",
   "metadata": {},
   "source": [
    "Notre portefeuille permet de mieux resister au stress test covid que le CAC 40."
   ]
  }
 ],
 "metadata": {
  "kernelspec": {
   "display_name": "Python 3",
   "language": "python",
   "name": "python3"
  },
  "language_info": {
   "codemirror_mode": {
    "name": "ipython",
    "version": 3
   },
   "file_extension": ".py",
   "mimetype": "text/x-python",
   "name": "python",
   "nbconvert_exporter": "python",
   "pygments_lexer": "ipython3",
   "version": "3.10.12"
  }
 },
 "nbformat": 4,
 "nbformat_minor": 2
}
