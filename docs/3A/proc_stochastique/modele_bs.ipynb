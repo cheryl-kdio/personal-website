{
  "cells": [
    {
      "cell_type": "markdown",
      "metadata": {},
      "source": [
        "# Calibration du modèle Black-Scholes\n",
        "\n",
        "# Calibration du modèle Black-Scholes\n",
        "\n",
        "Le modèle de Black-Scholes est un modèle mathématique qui permet de\n",
        "déterminer le prix d’une option à partir de plusieurs paramètres. Il est\n",
        "basé sur l’hypothèse que le prix de l’actif sous-jacent suit un\n",
        "mouvement brownien géométrique :\n",
        "\n",
        "$$\n",
        "dS_t = \\mu S_t dt + \\sigma S_t dW_t \n",
        "$$\n",
        "\n",
        "Avec $S_t$ le prix de l’actif, $\\mu$ le taux de rendement moyen,\n",
        "$\\sigma$ la volatilité et $W_t$ un mouvement brownien.\n",
        "\n",
        "De ce fait, le prix d’une option européenne peut être calculé par la\n",
        "formule de Black-Scholes :\n",
        "\n",
        "$$\n",
        "C(S_t, K, T, r, \\sigma) = S_t N(d_1) - K e^{-rT} N(d_2)\n",
        "$$\n",
        "\n",
        "Avec $C$ le prix de l’option, $S_t$ le prix de l’actif sous-jacent, $K$\n",
        "le prix d’exercice de l’option, $T$ la maturité de l’option, $r$ le taux\n",
        "d’intérêt sans risque, $\\sigma$ la volatilité de l’actif, $N$ la\n",
        "fonction de répartition de la loi normale centrée réduite, et :\n",
        "\n",
        "$$\n",
        "d_1 = \\frac{1}{\\sigma \\sqrt{T}} \\left( \\ln \\left( \\frac{S_t}{K} \\right) + \\left( r + \\frac{\\sigma^2}{2} \\right) T \\right)\n",
        "$$\n",
        "\n",
        "$$\n",
        "d_2 = d_1 - \\sigma \\sqrt{T}\n",
        "$$\n",
        "\n",
        "## 1. Calcul d’un call"
      ],
      "id": "78e1addc-b7f9-47ce-ba61-6ebbdb5a7ffe"
    },
    {
      "cell_type": "code",
      "execution_count": 1,
      "metadata": {},
      "outputs": [],
      "source": [
        "# Calcul d'un call\n",
        "from scipy.stats import norm\n",
        "import numpy as np\n",
        "from scipy.optimize import minimize\n",
        "\n",
        "def FormulaBS(S,K,r,tau,sigma):\n",
        "    d1 = (np.log(S/K) + (r + 0.5 *sigma**2)*tau ) / (sigma * np.sqrt(tau))\n",
        "    d2 = d1 - sigma * np.sqrt(tau)\n",
        "    call = S*norm.cdf(d1) - K* np.exp( - tau * r) * norm.cdf(d2)\n",
        "    return call"
      ],
      "id": "daa28f3d"
    },
    {
      "cell_type": "markdown",
      "metadata": {},
      "source": [
        "Lorsqu’on a pas accès à une formule analytique pour le prix d’une\n",
        "option, on peut utiliser la méthode de Monte-Carlo pour estimer ce prix.\n",
        "Pour cela, on simule un grand nombre de trajectoires du prix de l’actif\n",
        "sous-jacent, et on calcule la valeur de l’option à chaque date de\n",
        "maturité. On fait ensuite la moyenne de ces valeurs pour obtenir une\n",
        "estimation du prix de l’option.\n",
        "\n",
        "Le prix de l’actif sous-jacent suit un mouvement brownien géométrique,\n",
        "et on peut simuler ce mouvement en utilisant la formule d’Ito :\n",
        "\n",
        "$$\n",
        "S_t = S_0 e^{(\\mu - \\frac{\\sigma^2}{2})t + \\sigma W_t}\n",
        "$$"
      ],
      "id": "9b097d5d-6e1b-4116-821b-6072c049c90b"
    },
    {
      "cell_type": "code",
      "execution_count": 2,
      "metadata": {},
      "outputs": [],
      "source": [
        "def FormulaBSMC(K,r,tau,sigma,M, S0) :\n",
        "    # Simulation du M mouvement brownien de loi N(0, sigma*sqrt(T))\n",
        "    var_brown = sigma * np.sqrt(tau)\n",
        "    W_T= np.random.normal(0,var_brown,M)\n",
        "\n",
        "    S_T = S0 * np.exp((r - 0.5 * sigma**2) * tau + W_T)\n",
        "    payoff = np.maximum(S_T - K, 0)\n",
        "\n",
        "    call = np.exp(-r*tau) * np.mean(payoff)\n",
        "    return call"
      ],
      "id": "6e1e1843"
    },
    {
      "cell_type": "code",
      "execution_count": 3,
      "metadata": {},
      "outputs": [
        {
          "output_type": "stream",
          "name": "stdout",
          "text": [
            "Le prix d'un call est de maturité 6mois et de strike 40 est de 20.67722481517296"
          ]
        }
      ],
      "source": [
        "# Calcul du prix d'un call lors t=O, T=6mois, S0= 42, K=40, r=10%, sigma=20%\n",
        "S0 = 42\n",
        "K = 40\n",
        "r = 0.1\n",
        "tau = 6\n",
        "sigma = 0.2\n",
        "\n",
        "call_BS = FormulaBS(S0,K,r,tau,sigma)\n",
        "print(f\"Le prix d'un call est de maturité {tau}mois et de strike {K} est de {call_BS}\")"
      ],
      "id": "66179c1e"
    },
    {
      "cell_type": "code",
      "execution_count": 4,
      "metadata": {},
      "outputs": [
        {
          "output_type": "stream",
          "name": "stdout",
          "text": [
            "Le prix d'un call avec M=500, de maturité 6mois et de strike 40 est de 19.957082172959808\n",
            "Le prix d'un call avec M=5000, de maturité 6mois et de strike 40 est de 20.739627483854612\n",
            "Le prix d'un call avec M=50000, de maturité 6mois et de strike 40 est de 20.859662044258418"
          ]
        }
      ],
      "source": [
        "M_values = [500, 5000, 50000]\n",
        "for M in M_values:\n",
        "    call_BSMC = FormulaBSMC(K, r, tau, sigma, M, S0)\n",
        "    print(f\"Le prix d'un call avec M={M}, de maturité {tau}mois et de strike {K} est de {call_BSMC}\")"
      ],
      "id": "e6e11257"
    },
    {
      "cell_type": "code",
      "execution_count": 5,
      "metadata": {},
      "outputs": [
        {
          "output_type": "stream",
          "name": "stdout",
          "text": [
            "Le prix d'un call est de maturité 3mois et de strike 40 est de 13.362666146646749\n",
            "Le prix d'un call avec M=500, de maturité 3mois et de strike 40 est de 14.213018114964639\n",
            "Le prix d'un call avec M=5000, de maturité 3mois et de strike 40 est de 13.083277863083655\n",
            "Le prix d'un call avec M=50000, de maturité 3mois et de strike 40 est de 13.357151968070482"
          ]
        }
      ],
      "source": [
        "# Calcul du prix d'un call lors t=O, T=3mois, S0= 42, K=40, r=10%, sigma=20%\n",
        "tau = 3\n",
        "call_BS = FormulaBS(S0,K,r,tau,sigma)\n",
        "\n",
        "print(f\"Le prix d'un call est de maturité {tau}mois et de strike {K} est de {call_BS}\")\n",
        "\n",
        "for M in M_values:\n",
        "    call_BSMC = FormulaBSMC(K, r, tau, sigma, M, S0)\n",
        "    print(f\"Le prix d'un call avec M={M}, de maturité {tau}mois et de strike {K} est de {call_BSMC}\")"
      ],
      "id": "fe9fe00d"
    },
    {
      "cell_type": "markdown",
      "metadata": {},
      "source": [
        "Comme nous pouvons le constater, les deux méthodes permettent d’avoir\n",
        "des résultats similaires. De plus, plus le nombre de simulations est\n",
        "grand, plus la précision de l’estimation est grande.\n",
        "\n",
        "### 1.1. Calcul des greeks\n",
        "\n",
        "Les greeks sont des indicateurs qui permettent de mesurer la sensibilité\n",
        "du prix d’une option à différents paramètres. Les principaux greeks sont\n",
        ":\n",
        "\n",
        "-   Delta : mesure la sensibilité du prix de l’option par rapport au\n",
        "    prix de l’actif sous-jacent $$\n",
        "    \\Delta = \\frac{\\partial C}{\\partial S}\n",
        "    $$\n",
        "-   Gamma : mesure la sensibilité du delta par rapport au prix de\n",
        "    l’actif sous-jacent $$\n",
        "    \\Gamma = \\frac{\\partial^2 C}{\\partial S^2}\n",
        "    $$\n",
        "-   Vega : mesure la sensibilité du prix de l’option par rapport à la\n",
        "    volatilité de l’actif $$\n",
        "    Vega = \\frac{\\partial C}{\\partial \\sigma}\n",
        "    $$\n",
        "\n",
        "Il en existe d’autres, mais ces trois-là sont les plus couramment\n",
        "utilisés.\n",
        "\n",
        "Avec le modèle de Black-Scholes, on peut calculer ces greeks de manière\n",
        "analytique :\n",
        "\n",
        "$$\n",
        "\\Delta = N(d_1)\n",
        "$$\n",
        "\n",
        "$$\n",
        "\\Gamma = \\frac{N(d_1)}{S_t \\sigma \\sqrt{T}}\n",
        "$$\n",
        "\n",
        "$$\n",
        "Vega = S_t \\sqrt{T} N(d_1)\n",
        "$$\n",
        "\n",
        "Cependant, lorsqu’on a pas accès à une formule analytique pour le prix\n",
        "de l’option, on peut utiliser la méthode de Monte-Carlo pour estimer ces\n",
        "greeks. Pour cela, on calcule le prix de l’option pour une petite\n",
        "variation de chaque paramètre, et on fait la différence entre ces deux\n",
        "prix pour obtenir une estimation du greek. On peut également utiliser la\n",
        "méthode des différences finies pour calculer ces greeks."
      ],
      "id": "122142b5-c7ad-4a91-b1f6-44eff150d393"
    },
    {
      "cell_type": "code",
      "execution_count": 6,
      "metadata": {},
      "outputs": [],
      "source": [
        "def FormulaBSGreeks(S,K,r,tau,sigma):\n",
        "    d1 = (np.log(S/K) + (r + 0.5 *sigma**2)*tau ) / (sigma * np.sqrt(tau))\n",
        "    # d2 = d1 - sigma * np.sqrt(tau)\n",
        "\n",
        "    delta = norm.cdf(d1)\n",
        "    gamma = (1/(S*sigma*np.sqrt(tau))) * norm.pdf(d1)\n",
        "    vega = S * np.sqrt(tau) * norm.pdf(d1)\n",
        "\n",
        "    return delta, gamma, vega"
      ],
      "id": "3bc15047"
    },
    {
      "cell_type": "code",
      "execution_count": 7,
      "metadata": {},
      "outputs": [
        {
          "output_type": "stream",
          "name": "stdout",
          "text": [
            "Les greeks d'un call sont de maturité 0.5mois et de strike 110 sont delta=0.40141715171302983, gamma=0.027343746144537384, vega=27.343746144537384"
          ]
        }
      ],
      "source": [
        "S = 100\n",
        "K = 110\n",
        "r = 0.1\n",
        "tau = 0.5\n",
        "sigma = 0.2\n",
        "\n",
        "delta, gamma, vega = FormulaBSGreeks(S=S,K=K,r=r,tau=tau,sigma=sigma)\n",
        "print(f\"Les greeks d'un call sont de maturité {tau}mois et de strike {K} sont delta={delta}, gamma={gamma}, vega={vega}\")"
      ],
      "id": "cfe003ee"
    },
    {
      "cell_type": "code",
      "execution_count": 8,
      "metadata": {},
      "outputs": [
        {
          "output_type": "stream",
          "name": "stdout",
          "text": [
            "Les greeks d'un call sont de maturité 0.5mois et de strike 110 sont delta=0.4115075330389585, gamma=0.027343746144537384, vega=27.20701198133927"
          ]
        }
      ],
      "source": [
        "# Supposons qu'on a pas la formule des greeks\n",
        "# comment calculer les greeks\n",
        "# Approche montecarlo \n",
        "\n",
        "def FormulaBSGreeksMC(K,r,tau,sigma,M, S0) :\n",
        "    d1 = (np.log(S/K) + (r + 0.5 *sigma**2)*tau) / (sigma * np.sqrt(tau))\n",
        "    # Simulation du M mouvement brownien de loi N(0, sigma*sqrt(T))\n",
        "    var_brown = sigma * np.sqrt(tau)\n",
        "    W_T= np.random.normal(0,var_brown,M)\n",
        "\n",
        "    S_T = S0 * np.exp((r - 0.5 * sigma**2) * tau + W_T)\n",
        "\n",
        "    delta = np.exp(-r*tau) * np.mean((S_T > K) * S_T / S0)\n",
        "    gamma = norm.pdf(d1)/(S0 * sigma * np.sqrt(tau))\n",
        "    vega = np.exp(-r*tau) * np.mean((S_T > K) * (S_T/sigma) *(np.log(S_T/S0) - (r + 0.5 * sigma**2)*tau))\n",
        "\n",
        "    return delta, gamma, vega\n",
        "\n",
        "delta, gamma, vega = FormulaBSGreeksMC(K,r,tau,sigma,500, S)\n",
        "print(f\"Les greeks d'un call sont de maturité {tau}mois et de strike {K} sont delta={delta}, gamma={gamma}, vega={vega}\")"
      ],
      "id": "405d8b6e"
    },
    {
      "cell_type": "code",
      "execution_count": 9,
      "metadata": {},
      "outputs": [
        {
          "output_type": "stream",
          "name": "stdout",
          "text": [
            "Les greeks d'un call sont de maturité 0.5mois et de strike 110 sont delta=0.4014171516075748, gamma=0.027142732506035824, vega=27.34374614092871"
          ]
        }
      ],
      "source": [
        "# Mérhode de différencee finie basé sur la méthode de Taylor\n",
        "def FormulaBSGreeks_FD_num(S, K, r, tau, sigma, delta_S=1e-5):\n",
        "    \"\"\"\n",
        "    Calcule les Grecs (Delta, Gamma, Vega) pour une option call\n",
        "    par différences finies.\n",
        "\n",
        "    Paramètres:\n",
        "    S : float - Prix actuel de l'actif sous-jacent\n",
        "    K : float - Prix d'exercice de l'option (strike)\n",
        "    r : float - Taux d'intérêt sans risque (annualisé)\n",
        "    tau : float - Temps jusqu'à la maturité (en années)\n",
        "    sigma : float - Volatilité de l'actif sous-jacent (annualisée)\n",
        "    epsilon : float - Petit incrément pour les différences finies\n",
        "\n",
        "    Retour:\n",
        "    tuple - (Delta, Gamma, Vega)\n",
        "    \"\"\"\n",
        "    # Delta\n",
        "    delta = (FormulaBS(S + delta_S, K, r, tau, sigma) - FormulaBS(S - delta_S, K, r, tau, sigma)) / (2 * delta_S)\n",
        "\n",
        "    # Gamma\n",
        "    gamma = (FormulaBS(S + delta_S, K, r, tau, sigma) - 2 * FormulaBS(S, K, r, tau, sigma) + FormulaBS(S - delta_S, K, r, tau, sigma)) / (delta_S**2)\n",
        "\n",
        "    # Vega\n",
        "    vega = (FormulaBS(S, K, r, tau, sigma + delta_S) - FormulaBS(S, K, r, tau, sigma - delta_S)) / (2 * delta_S)\n",
        "\n",
        "    return delta, gamma, vega\n",
        "\n",
        "delta, gamma, vega = FormulaBSGreeks_FD_num(S,K,r,tau,sigma)\n",
        "print(f\"Les greeks d'un call sont de maturité {tau}mois et de strike {K} sont delta={delta}, gamma={gamma}, vega={vega}\")"
      ],
      "id": "8c4e0afd"
    },
    {
      "cell_type": "markdown",
      "metadata": {},
      "source": [
        "### 1.2 Calibration du modèle BS : calcul de la volatilité implicite\n",
        "\n",
        "L’intérêt du modèle de Black-Scholes est qu’il permet de calculer la\n",
        "volatilité implicite d’un actif à partir du prix de l’option. En effet,\n",
        "si on connait le prix de l’option, le prix de l’actif sous-jacent, le\n",
        "prix d’exercice de l’option, la maturité de l’option et le taux\n",
        "d’intérêt sans risque, on peut calculer la volatilité implicite en\n",
        "résolvant l’équation de Black-Scholes pour $\\sigma$ :\n",
        "\n",
        "$$\n",
        "C(S_t, K, T, r, \\sigma) = S_t N(d_1) - K e^{-rT} N(d_2)\n",
        "$$"
      ],
      "id": "61f008b1-adaf-45e5-ad18-8f29c91f0b35"
    },
    {
      "cell_type": "code",
      "execution_count": 10,
      "metadata": {},
      "outputs": [],
      "source": [
        "def ImpliedVolBS(S,K,r,tau, Call):\n",
        "    # optim function\n",
        "    def obj_func(sigma):\n",
        "        return (Call - FormulaBS(S,K,r,tau,sigma))**2\n",
        "    \n",
        "    res = minimize(obj_func, 0.2)\n",
        "    sigma = res.x[0]\n",
        "    return sigma\n"
      ],
      "id": "24d643f6"
    },
    {
      "cell_type": "code",
      "execution_count": 11,
      "metadata": {},
      "outputs": [
        {
          "output_type": "stream",
          "name": "stdout",
          "text": [
            "La volatilité implicite d'un call est de maturité 0.25mois et de strike 100 est de 0.19821832844648876"
          ]
        }
      ],
      "source": [
        "# Calcul de la volatilité d'une option d'achat à la monnaie de maturité 3 mois et de strike K=S=4.58 sachant que S0=100; r=5%\n",
        "\n",
        "S = 100\n",
        "K = 100\n",
        "r = 0.05\n",
        "tau = 3/12\n",
        "Call = 4.58\n",
        "sigma = ImpliedVolBS(S,K,r,tau, Call)\n",
        "\n",
        "print(f\"La volatilité implicite d'un call est de maturité {tau}mois et de strike {K} est de {sigma}\")"
      ],
      "id": "aa1c464d"
    },
    {
      "cell_type": "code",
      "execution_count": 12,
      "metadata": {},
      "outputs": [
        {
          "output_type": "stream",
          "name": "stdout",
          "text": [
            "La volatilité implicite d'un call est de maturité 0.5mois et de strike 100 est de 0.15010660990708588"
          ]
        }
      ],
      "source": [
        "# Calcul de la volatilité d'une option d'achat à la monnaie de maturité 6 mois et de strike K=S=5.53 sachant que S0=100; r=5%\n",
        "\n",
        "S = 100\n",
        "K = 100\n",
        "r = 0.05\n",
        "tau = 0.5\n",
        "Call = 5.53\n",
        "sigma = ImpliedVolBS(S,K,r,tau, Call)\n",
        "\n",
        "print(f\"La volatilité implicite d'un call est de maturité {tau}mois et de strike {K} est de {sigma}\")"
      ],
      "id": "efd533c2"
    }
  ],
  "nbformat": 4,
  "nbformat_minor": 5,
  "metadata": {
    "kernelspec": {
      "name": "python3",
      "display_name": "Python 3 (ipykernel)",
      "language": "python",
      "path": "/Users/cherylkouadio/Library/Python/3.9/share/jupyter/kernels/python3"
    },
    "language_info": {
      "name": "python",
      "codemirror_mode": {
        "name": "ipython",
        "version": "3"
      },
      "file_extension": ".py",
      "mimetype": "text/x-python",
      "nbconvert_exporter": "python",
      "pygments_lexer": "ipython3",
      "version": "3.9.6"
    }
  }
}