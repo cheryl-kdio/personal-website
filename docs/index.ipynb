{
  "cells": [
    {
      "cell_type": "markdown",
      "metadata": {},
      "source": [
        "# Cheryl KOUADIO"
      ],
      "id": "6eea082f-71b1-4579-b1f9-63916617be5e"
    }
  ],
  "nbformat": 4,
  "nbformat_minor": 5,
  "metadata": {
    "kernelspec": {
      "display_name": "Python 3",
      "language": "python",
      "name": "python3"
    }
  }
}