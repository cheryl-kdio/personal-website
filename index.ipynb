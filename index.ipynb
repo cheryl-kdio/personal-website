{
  "cells": [
    {
      "cell_type": "markdown",
      "metadata": {},
      "source": [
        "# Cheryl KOUADIO"
      ],
      "id": "a2b1799c-a49e-4948-a4a8-247b5c38a459"
    }
  ],
  "nbformat": 4,
  "nbformat_minor": 5,
  "metadata": {
    "kernelspec": {
      "display_name": "Python 3",
      "language": "python",
      "name": "python3"
    }
  }
}