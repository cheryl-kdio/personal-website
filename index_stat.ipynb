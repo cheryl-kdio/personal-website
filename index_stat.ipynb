{
  "cells": [
    {
      "cell_type": "markdown",
      "metadata": {},
      "source": [
        "# Cheryl KOUADIO\n",
        "\n",
        "# Théorie des valeurs extrêmes\n",
        "\n",
        "-   [Résumé de la théorie des valeurs extrêmes](3A/EVT/EVT_resume.pdf)\n",
        "\n",
        "# Microéconométrie appliquée\n",
        "\n",
        "-   [Résumé des méthodes de microéconométrie appliquée enseignées à la\n",
        "    promo 2024-2025 ENSAI](2A/Courses.pdf)\n",
        "\n",
        "# Apprentissage supervisé\n",
        "\n",
        "-   [Régression linéaire](2A/App_sup/reg_lin.qmd)\n",
        "-   [Kernel Trick and Support Vector Machines\n",
        "    (SVM)](3A/Apprentisage-stat/Tp2.qmd)\n",
        "-   [Gradient boosting](3A/Apprentisage-stat/Tp3.qmd)\n",
        "-   [Feature selection](3A/Apprentisage-stat/Tp4.qmd)\n",
        "-   [Régression ridge et lasso](3A/Apprentisage-stat/Tp1.qmd)\n",
        "-   [CART & Random Forest](2A/App_sup/arbres_&_forets_aleatoires.html)"
      ],
      "id": "2f2fe1d9-4d99-477c-9f3c-2ab928692a49"
    }
  ],
  "nbformat": 4,
  "nbformat_minor": 5,
  "metadata": {
    "kernelspec": {
      "display_name": "Python 3",
      "language": "python",
      "name": "python3"
    }
  }
}